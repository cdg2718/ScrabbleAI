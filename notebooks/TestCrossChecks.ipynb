{
 "cells": [
  {
   "cell_type": "code",
   "execution_count": 115,
   "id": "1754bf2f-3a09-48c2-993b-b4bc9a477e14",
   "metadata": {},
   "outputs": [],
   "source": [
    "import os\n",
    "import pickle\n",
    "import time\n",
    "import importlib\n",
    "from tqdm import tqdm\n",
    "\n",
    "import pandas as pd\n",
    "import numpy as np\n",
    "import matplotlib.pyplot as plt\n",
    "\n",
    "from features.data_processing import load_scrabble_data\n",
    "from features.quadrant_features import count_tiles_in_quadrants\n",
    "from game_logic.utils import pretty_print_board\n",
    "\n",
    "import xgboost as xgb\n",
    "from sklearn.model_selection import train_test_split\n",
    "from sklearn.metrics import mean_squared_error, r2_score\n",
    "from sklearn.model_selection import GridSearchCV"
   ]
  },
  {
   "cell_type": "code",
   "execution_count": 2,
   "id": "4bcbf1ca-735d-4d75-9759-f56cbd5f1286",
   "metadata": {},
   "outputs": [
    {
     "name": "stdout",
     "output_type": "stream",
     "text": [
      "Loading cached data...\n",
      "Data loaded with 395715 rows\n"
     ]
    }
   ],
   "source": [
    "data_path = \"../data/magpie-sims-400k.csv\"\n",
    "cached_path = \"../data/cached_raw.pkl\"\n",
    "# Check if cached file exists\n",
    "if os.path.exists(cached_path):\n",
    "    print(\"Loading cached data...\")\n",
    "    with open(cached_path, \"rb\") as f:\n",
    "        df_raw = pickle.load(f)\n",
    "else:\n",
    "    print(\"Processing and caching data...\")\n",
    "    df_raw = load_scrabble_data(data_path)\n",
    "    \n",
    "    # Save to cache\n",
    "    with open(cached_path, \"wb\") as f:\n",
    "        pickle.dump(df_raw, f)\n",
    "\n",
    "# Verify DataFrame loaded\n",
    "print(f\"Data loaded with {len(df_raw)} rows\")"
   ]
  },
  {
   "cell_type": "code",
   "execution_count": 3,
   "id": "1a900fba-d93e-4f6a-9a36-e5dbeffdec41",
   "metadata": {},
   "outputs": [
    {
     "name": "stdout",
     "output_type": "stream",
     "text": [
      "DAWG loaded successfully!\n"
     ]
    }
   ],
   "source": [
    "from game_logic.dawg import DAWG\n",
    "\n",
    "# Define dictionary path\n",
    "dict_path = \"../data/serialized_dawg_CSW24.bin\"\n",
    "\n",
    "# Initialize DAWG\n",
    "dawg = DAWG()\n",
    "\n",
    "# Load and Deserialize\n",
    "with open(dict_path, \"rb\") as f:\n",
    "    dawg_data = f.read()  # Read entire binary file\n",
    "    dawg.deserialize(dawg_data)  # Deserialize into DAWG structure\n",
    "\n",
    "print(\"DAWG loaded successfully!\")\n"
   ]
  },
  {
   "cell_type": "code",
   "execution_count": 4,
   "id": "3dbb11c4-21b1-43c5-8860-28a7c057f4c5",
   "metadata": {},
   "outputs": [],
   "source": [
    "words = dawg.get_all_words()"
   ]
  },
  {
   "cell_type": "code",
   "execution_count": 77,
   "id": "78227dd5-03a6-4d9c-8658-f4b37ddc40bd",
   "metadata": {},
   "outputs": [],
   "source": [
    "import game_logic.crosschecks  # Import the full module\n",
    "import importlib\n",
    "\n",
    "importlib.reload(game_logic.crosschecks)\n",
    "\n",
    "# Now call the function\n",
    "from game_logic.crosschecks import find_anchors_with_cross_checks\n",
    "\n",
    "from typing import List\n",
    "import numpy as np\n",
    "\n",
    "import game_logic.utils\n",
    "\n",
    "importlib.reload(game_logic.utils)\n",
    "\n",
    "from game_logic.types import Board, CrossCheckBoard\n",
    "from game_logic.utils import transpose, pretty_print_board_with_crosschecks\n"
   ]
  },
  {
   "cell_type": "code",
   "execution_count": 58,
   "id": "31fbdce7-298e-45b2-a453-72c3a7ca72f8",
   "metadata": {},
   "outputs": [
    {
     "name": "stdout",
     "output_type": "stream",
     "text": [
      "Data loaded in 242.7373 seconds\n"
     ]
    }
   ],
   "source": [
    "start_time = time.time()\n",
    "df_raw[\"cs_h\"] = df_raw[\"board\"].apply(lambda b: find_anchors_with_cross_checks(b, dawg))\n",
    "end_time = time.time()\n",
    "\n",
    "elapsed_time = time.time() - start_time\n",
    "print(f\"Data loaded in {elapsed_time:.4f} seconds\")"
   ]
  },
  {
   "cell_type": "code",
   "execution_count": 59,
   "id": "241159a1-881f-48a2-a0df-979404d40338",
   "metadata": {},
   "outputs": [
    {
     "name": "stdout",
     "output_type": "stream",
     "text": [
      "Data loaded in 280.4659 seconds\n"
     ]
    }
   ],
   "source": [
    "start_time = time.time()\n",
    "df_raw[\"cs_v\"] = df_raw[\"board\"].apply(lambda b: transpose(find_anchors_with_cross_checks(transpose(b), dawg)))\n",
    "end_time = time.time()\n",
    "\n",
    "elapsed_time = time.time() - start_time\n",
    "print(f\"Data loaded in {elapsed_time:.4f} seconds\")"
   ]
  },
  {
   "cell_type": "code",
   "execution_count": 86,
   "id": "09d435b8-b56d-4d8f-8ec0-7fce861015c3",
   "metadata": {},
   "outputs": [],
   "source": [
    "row = 214751\n",
    "board = df_raw[\"board\"][row]\n",
    "cs_v = df_raw[\"cs_v\"][row]\n",
    "cs_h = df_raw[\"cs_h\"][row]"
   ]
  },
  {
   "cell_type": "code",
   "execution_count": 87,
   "id": "5654f3b6-0927-446a-a21c-8e82e054c78f",
   "metadata": {},
   "outputs": [
    {
     "name": "stdout",
     "output_type": "stream",
     "text": [
      " ★  .  .  ◆  .  .  .  ★  A  .  .  ◆  .  .  ★ \n",
      " .  ✦  .  .  .  ▲  .  .  N  ▲  .  .  .  ✦  . \n",
      " .  .  ✦  .  .  .  ◆  .  O  F  .  .  ✦  .  . \n",
      " ◆  .  .  ✦  .  .  .  ◆  A  R  P  A  .  .  ◆ \n",
      " .  .  .  .  ✦  .  .  .  .  I  ✦  .  .  .  . \n",
      " .  ▲  .  .  .  ▲  .  .  .  V  .  .  .  ▲  . \n",
      " .  .  ◆  .  .  .  ◆  .  ◆  O  H  .  ◆  .  . \n",
      " ★  .  .  ◆  .  .  G  A  L  L  O  W  .  .  ★ \n",
      " .  .  ◆  .  .  .  ◆  .  ◆  E  M  .  ◆  .  . \n",
      " .  ▲  .  .  .  ▲  .  .  .  D  I  .  .  ▲  . \n",
      " .  .  .  .  ✦  .  .  .  .  .  E  .  .  .  . \n",
      " ◆  .  .  ✦  .  .  .  ◆  .  .  .  ✦  .  .  ◆ \n",
      " .  .  ✦  .  .  .  ◆  .  ◆  .  .  .  ✦  .  . \n",
      " .  ✦  .  .  .  ▲  .  .  .  ▲  .  .  .  ✦  . \n",
      " ★  .  .  ◆  .  .  .  ★  .  .  .  ◆  .  .  ★ \n"
     ]
    }
   ],
   "source": [
    "pretty_print_board(board)"
   ]
  },
  {
   "cell_type": "code",
   "execution_count": 88,
   "id": "9aa9ee35-2f6a-4f95-b254-84b39112ebf0",
   "metadata": {},
   "outputs": [
    {
     "name": "stdout",
     "output_type": "stream",
     "text": [
      " ★  .  .  ◆  .  .  .  ○  A  ○  .  ◆  .  .  ★ \n",
      " .  ✦  .  .  .  ▲  .  ○  N  0  .  .  .  ✦  . \n",
      " .  .  ✦  .  .  .  ◆  ○  O  F  2  15 ✦  .  . \n",
      " ◆  .  .  ✦  .  .  .  ○  A  R  P  A  ○  .  ◆ \n",
      " .  .  .  .  ✦  .  .  .  1  I  4  16 .  .  . \n",
      " .  ▲  .  .  .  ▲  .  .  ○  V  0  .  .  ▲  . \n",
      " .  .  ◆  .  .  .  2  15 2  O  H  3  ◆  .  . \n",
      " ★  .  .  ◆  .  ○  G  A  L  L  O  W  ○  .  ★ \n",
      " .  .  ◆  .  .  .  3  16 3  E  M  2  ◆  .  . \n",
      " .  ▲  .  .  .  ▲  .  .  ○  D  I  ○  .  ▲  . \n",
      " .  .  .  .  ✦  .  .  .  .  0  E  ○  .  .  . \n",
      " ◆  .  .  ✦  .  .  .  ◆  .  .  2  ✦  .  .  ◆ \n",
      " .  .  ✦  .  .  .  ◆  .  ◆  .  .  .  ✦  .  . \n",
      " .  ✦  .  .  .  ▲  .  .  .  ▲  .  .  .  ✦  . \n",
      " ★  .  .  ◆  .  .  .  ★  .  .  .  ◆  .  .  ★ \n"
     ]
    }
   ],
   "source": [
    "pretty_print_board_with_crosschecks(board, cs_h)"
   ]
  },
  {
   "cell_type": "code",
   "execution_count": 89,
   "id": "1ca28d26-585a-4f87-800b-5291c252f160",
   "metadata": {},
   "outputs": [
    {
     "name": "stdout",
     "output_type": "stream",
     "text": [
      " ★  .  .  ◆  .  .  .  15 A  16 .  ◆  .  .  ★ \n",
      " .  ✦  .  .  .  ▲  .  5  N  5  .  .  .  ✦  . \n",
      " .  .  ✦  .  .  .  ◆  3  O  F  2  ○  ✦  .  . \n",
      " ◆  .  .  ✦  .  .  .  0  A  R  P  A  1  .  ◆ \n",
      " .  .  .  .  ✦  .  .  .  14 I  6  ○  .  .  . \n",
      " .  ▲  .  .  .  ▲  .  .  0  V  0  .  .  ▲  . \n",
      " .  .  ◆  .  .  .  ○  ○  8  O  H  3  ◆  .  . \n",
      " ★  .  .  ◆  .  0  G  A  L  L  O  W  1  .  ★ \n",
      " .  .  ◆  .  .  .  ○  ○  6  E  M  4  ◆  .  . \n",
      " .  ▲  .  .  .  ▲  .  .  0  D  I  11 .  ▲  . \n",
      " .  .  .  .  ✦  .  .  .  .  15 E  13 .  .  . \n",
      " ◆  .  .  ✦  .  .  .  ◆  .  .  ○  ✦  .  .  ◆ \n",
      " .  .  ✦  .  .  .  ◆  .  ◆  .  .  .  ✦  .  . \n",
      " .  ✦  .  .  .  ▲  .  .  .  ▲  .  .  .  ✦  . \n",
      " ★  .  .  ◆  .  .  .  ★  .  .  .  ◆  .  .  ★ \n"
     ]
    }
   ],
   "source": [
    "pretty_print_board_with_crosschecks(board, cs_v)"
   ]
  },
  {
   "cell_type": "code",
   "execution_count": 94,
   "id": "504c2a5c-01e4-4120-afcf-8f4868434e04",
   "metadata": {},
   "outputs": [],
   "source": [
    "from typing import List, Tuple\n",
    "from game_logic.types import Board, CrossCheckBoard\n",
    "\n",
    "def compute_8_letter_bingo_lanes(\n",
    "    board: Board, crosscheck_board_h: CrossCheckBoard, crosscheck_board_v: CrossCheckBoard\n",
    ") -> List[Tuple[int, int, str, int]]:\n",
    "    \"\"\"\n",
    "    Computes 8-letter bingo lanes by checking spaces around existing tiles.\n",
    "\n",
    "    Args:\n",
    "        board (Board): The Scrabble board (15x15 grid).\n",
    "        crosscheck_board_h (CrossCheckBoard): Horizontal cross-check constraints.\n",
    "        crosscheck_board_v (CrossCheckBoard): Vertical cross-check constraints.\n",
    "\n",
    "    Returns:\n",
    "        List[Tuple[int, int, str, int]]: A list of (row, col, direction, lane_size) tuples.\n",
    "    \"\"\"\n",
    "    bingo_lanes = []\n",
    "\n",
    "    def is_valid_extension(r, c, r_next, c_next, crosscheck_board):\n",
    "        \"\"\"Returns True if we can extend a word into this space and the next space.\"\"\"\n",
    "        if not (0 <= r < 15 and 0 <= c < 15):\n",
    "            return False  # Out of bounds\n",
    "        if board[r][c] is not None:\n",
    "            return False  # Occupied\n",
    "        if crosscheck_board[r][c] is not None and len(crosscheck_board[r][c].valid_letters) == 0:\n",
    "            return False  # Cross-check restriction\n",
    "        if 0 <= r_next < 15 and 0 <= c_next < 15 and (\n",
    "            board[r_next][c_next] is not None\n",
    "        ):\n",
    "            return False  # Next space blocked\n",
    "        return True\n",
    "\n",
    "    def has_adjacent_tile_in_direction(r, c, direction):\n",
    "        \"\"\"Checks if a tile has an adjacent tile in the given direction.\"\"\"\n",
    "        if direction == \"H\":\n",
    "            return (c > 0 and board[r][c - 1] is not None) or (c < 14 and board[r][c + 1] is not None)\n",
    "        if direction == \"V\":\n",
    "            return (r > 0 and board[r - 1][c] is not None) or (r < 14 and board[r + 1][c] is not None)\n",
    "        return False\n",
    "\n",
    "    # Scan board for existing tiles\n",
    "    for row in range(15):\n",
    "        for col in range(15):\n",
    "            if board[row][col] is None:\n",
    "                continue  # Skip empty spaces\n",
    "\n",
    "            # Horizontal playability: Skip if adjacent horizontal tile exists\n",
    "            if not has_adjacent_tile_in_direction(row, col, \"H\"):\n",
    "                left_spaces = 0\n",
    "                right_spaces = 0\n",
    "\n",
    "                for i in range(1, 8):\n",
    "                    if is_valid_extension(row, col - i, row, col - i - 1, crosscheck_board_h):\n",
    "                        left_spaces += 1\n",
    "                    else:\n",
    "                        break\n",
    "\n",
    "                for i in range(1, 8):\n",
    "                    if is_valid_extension(row, col + i, row, col + i + 1, crosscheck_board_h):\n",
    "                        right_spaces += 1\n",
    "                    else:\n",
    "                        break\n",
    "\n",
    "                lane_size_h = max(0, left_spaces + right_spaces - 6)\n",
    "                if lane_size_h > 0:\n",
    "                    bingo_lanes.append((row, col, \"H\", lane_size_h))\n",
    "\n",
    "            # Vertical playability: Skip if adjacent vertical tile exists\n",
    "            if not has_adjacent_tile_in_direction(row, col, \"V\"):\n",
    "                up_spaces = 0\n",
    "                down_spaces = 0\n",
    "\n",
    "                for i in range(1, 8):\n",
    "                    if is_valid_extension(row - i, col, row - i - 1, col, crosscheck_board_v):\n",
    "                        up_spaces += 1\n",
    "                    else:\n",
    "                        break\n",
    "\n",
    "                for i in range(1, 8):\n",
    "                    if is_valid_extension(row + i, col, row + i + 1, col, crosscheck_board_v):\n",
    "                        down_spaces += 1\n",
    "                    else:\n",
    "                        break\n",
    "\n",
    "                lane_size_v = max(0, up_spaces + down_spaces - 6)\n",
    "                if lane_size_v > 0:\n",
    "                    bingo_lanes.append((row, col, \"V\", lane_size_v))\n",
    "\n",
    "    return bingo_lanes\n"
   ]
  },
  {
   "cell_type": "code",
   "execution_count": 95,
   "id": "87b4a5b7-f1b5-4d49-9202-bf13c67702e8",
   "metadata": {},
   "outputs": [
    {
     "data": {
      "text/plain": [
       "[(0, 8, 'H', 7),\n",
       " (1, 8, 'H', 1),\n",
       " (4, 9, 'H', 6),\n",
       " (5, 9, 'H', 1),\n",
       " (7, 6, 'V', 8),\n",
       " (7, 7, 'V', 4),\n",
       " (7, 11, 'V', 3)]"
      ]
     },
     "execution_count": 95,
     "metadata": {},
     "output_type": "execute_result"
    }
   ],
   "source": [
    "compute_8_letter_bingo_lanes(board, cs_h, cs_v)"
   ]
  },
  {
   "cell_type": "code",
   "execution_count": 101,
   "id": "e7ffec58-353d-4778-b142-f02c5db50d84",
   "metadata": {},
   "outputs": [
    {
     "name": "stdout",
     "output_type": "stream",
     "text": [
      " ★  .  .  ◆  .  .  .  ★  A  .  .  ◆  .  .  ★ \n",
      " .  ✦  .  .  .  ▲  .  .  N  ▲  .  .  .  ✦  . \n",
      " .  .  ✦  .  .  .  ◆  .  O  F  .  .  ✦  .  . \n",
      " ◆  .  .  ✦  .  .  .  ◆  A  R  P  A  .  .  ◆ \n",
      " .  .  .  .  ✦  .  .  .  .  I  ✦  .  .  .  . \n",
      " .  ▲  .  .  .  ▲  .  .  .  V  .  .  .  ▲  . \n",
      " .  .  ◆  .  .  .  ◆  .  ◆  O  H  .  ◆  .  . \n",
      " ★  .  .  ◆  .  .  G  A  L  L  O  W  .  .  ★ \n",
      " .  .  ◆  .  .  .  ◆  .  ◆  E  M  .  ◆  .  . \n",
      " .  ▲  .  .  .  ▲  .  .  .  D  I  .  .  ▲  . \n",
      " .  .  .  .  ✦  .  .  .  .  .  E  .  .  .  . \n",
      " ◆  .  .  ✦  .  .  .  ◆  .  .  .  ✦  .  .  ◆ \n",
      " .  .  ✦  .  .  .  ◆  .  ◆  .  .  .  ✦  .  . \n",
      " .  ✦  .  .  .  ▲  .  .  .  ▲  .  .  .  ✦  . \n",
      " ★  .  .  ◆  .  .  .  ★  .  .  .  ◆  .  .  ★ \n"
     ]
    }
   ],
   "source": [
    "pretty_print_board(board)"
   ]
  },
  {
   "cell_type": "code",
   "execution_count": 97,
   "id": "38445294-8d5a-45ee-b1c3-fd8790bc515f",
   "metadata": {},
   "outputs": [
    {
     "name": "stdout",
     "output_type": "stream",
     "text": [
      " ★  .  .  ◆  .  .  .  15 A  16 .  ◆  .  .  ★ \n",
      " .  ✦  .  .  .  ▲  .  5  N  5  .  .  .  ✦  . \n",
      " .  .  ✦  .  .  .  ◆  3  O  F  2  ○  ✦  .  . \n",
      " ◆  .  .  ✦  .  .  .  0  A  R  P  A  1  .  ◆ \n",
      " .  .  .  .  ✦  .  .  .  14 I  6  ○  .  .  . \n",
      " .  ▲  .  .  .  ▲  .  .  0  V  0  .  .  ▲  . \n",
      " .  .  ◆  .  .  .  ○  ○  8  O  H  3  ◆  .  . \n",
      " ★  .  .  ◆  .  0  G  A  L  L  O  W  1  .  ★ \n",
      " .  .  ◆  .  .  .  ○  ○  6  E  M  4  ◆  .  . \n",
      " .  ▲  .  .  .  ▲  .  .  0  D  I  11 .  ▲  . \n",
      " .  .  .  .  ✦  .  .  .  .  15 E  13 .  .  . \n",
      " ◆  .  .  ✦  .  .  .  ◆  .  .  ○  ✦  .  .  ◆ \n",
      " .  .  ✦  .  .  .  ◆  .  ◆  .  .  .  ✦  .  . \n",
      " .  ✦  .  .  .  ▲  .  .  .  ▲  .  .  .  ✦  . \n",
      " ★  .  .  ◆  .  .  .  ★  .  .  .  ◆  .  .  ★ \n"
     ]
    }
   ],
   "source": [
    "pretty_print_board_with_crosschecks(board, cs_v)"
   ]
  },
  {
   "cell_type": "code",
   "execution_count": 98,
   "id": "0019b655-02a9-41c8-96f4-54e7cad68715",
   "metadata": {},
   "outputs": [
    {
     "name": "stderr",
     "output_type": "stream",
     "text": [
      "100%|██████████████████████████████████████████████████████████████████████████████████████████████████████████████████████████████████████████| 395715/395715 [00:45<00:00, 8698.27it/s]\n"
     ]
    }
   ],
   "source": [
    "from tqdm import tqdm\n",
    "\n",
    "# Compute bingo lanes for each board in the dataset\n",
    "df_raw[\"8_letter_bingo_lanes_list\"] = [\n",
    "    compute_8_letter_bingo_lanes(board, cs_v, cs_h)\n",
    "    for board, cs_v, cs_h in tqdm(zip(df_raw[\"board\"], df_raw[\"cs_v\"], df_raw[\"cs_h\"]), total=len(df_raw))\n",
    "]\n",
    "\n",
    "df_raw[\"8_letter_bingos\"] = df_raw[\"8_letter_bingo_lanes_list\"].apply(\n",
    "    lambda lanes: sum(lane[3] for lane in lanes) if lanes else 0\n",
    ")\n"
   ]
  },
  {
   "cell_type": "code",
   "execution_count": 107,
   "id": "526c7b7d-3dca-4005-a960-66bfcabf1437",
   "metadata": {},
   "outputs": [],
   "source": [
    "from typing import List, Tuple\n",
    "from game_logic.types import Board, CrossCheckBoard\n",
    "\n",
    "def compute_7_letter_bingo_lanes(\n",
    "    board: Board, crosscheck_board_h: CrossCheckBoard, crosscheck_board_v: CrossCheckBoard\n",
    ") -> List[Tuple[int, int, str, int]]:\n",
    "    \"\"\"\n",
    "    Computes 7-letter bingo lanes by checking valid cross-check spaces.\n",
    "    A play can only go through one cross-check constraint before stopping.\n",
    "\n",
    "    Args:\n",
    "        board (Board): The Scrabble board (15x15 grid).\n",
    "        crosscheck_board_h (CrossCheckBoard): Horizontal cross-check constraints.\n",
    "        crosscheck_board_v (CrossCheckBoard): Vertical cross-check constraints.\n",
    "\n",
    "    Returns:\n",
    "        List[Tuple[int, int, str, int]]: A list of (row, col, direction, lane_size) tuples.\n",
    "    \"\"\"\n",
    "\n",
    "    # If board is empty, the only valid lane is (7, 7, \"H\", 1)\n",
    "    if board[7][7] is None:\n",
    "        return [(7, 7, \"H\", 1)]\n",
    "\n",
    "    bingo_lanes = []\n",
    "\n",
    "    def is_valid_bingo_start(r, c, crosscheck_board, direction):\n",
    "        \"\"\"Checks if a space is a valid starting point for a 7-letter bingo.\"\"\"\n",
    "        if board[r][c] is not None:\n",
    "            return False  # Cannot play through an existing tile\n",
    "        if crosscheck_board[r][c] is None or crosscheck_board[r][c].is_open_square:\n",
    "            return False  # Must be a constrained space\n",
    "        if len(crosscheck_board[r][c].valid_letters) == 0:\n",
    "            return False  # No valid letters to play through\n",
    "\n",
    "        # Ensure the space is not trapped between two tiles\n",
    "        if direction == \"H\":\n",
    "            if (c > 0 and board[r][c - 1] is not None) or (c < 14 and board[r][c + 1] is not None):\n",
    "                return False  # Tile on both left & right\n",
    "        elif direction == \"V\":\n",
    "            if (r > 0 and board[r - 1][c] is not None) or (r < 14 and board[r + 1][c] is not None):\n",
    "                return False  # Tile above & below\n",
    "\n",
    "        return True  # Valid starting point\n",
    "\n",
    "    def count_empty_spaces(r, c, dr, dc, crosscheck_board):\n",
    "        \"\"\"Counts empty spaces until hitting a tile or another cross-check.\"\"\"\n",
    "        count = 0\n",
    "\n",
    "        for i in range(1, 7):  # Maximum 7-letter word placement\n",
    "            r_next, c_next = r + i * dr, c + i * dc\n",
    "\n",
    "            # Out of bounds check\n",
    "            if not (0 <= r_next < 15 and 0 <= c_next < 15):\n",
    "                break  \n",
    "\n",
    "            # Stop at the first occupied tile\n",
    "            if board[r_next][c_next] is not None:\n",
    "                break  \n",
    "\n",
    "            # Stop at the first cross-check (we only play through one)\n",
    "            if crosscheck_board[r_next][c_next] is not None:\n",
    "                break  \n",
    "\n",
    "            count += 1  # Valid empty space\n",
    "\n",
    "        return count\n",
    "\n",
    "    # Iterate through the board looking for valid cross-check spaces\n",
    "    for row in range(15):\n",
    "        for col in range(15):\n",
    "            # Check horizontal lanes\n",
    "            if is_valid_bingo_start(row, col, crosscheck_board_h, \"H\"):\n",
    "                left_spaces = count_empty_spaces(row, col, 0, -1, crosscheck_board_h)\n",
    "                right_spaces = count_empty_spaces(row, col, 0, 1, crosscheck_board_h)\n",
    "                lane_size_h = max(0, left_spaces + right_spaces - 5)  # Need 6 open spaces around a tile\n",
    "                if lane_size_h > 0:\n",
    "                    bingo_lanes.append((row, col, \"H\", lane_size_h))\n",
    "\n",
    "            # Check vertical lanes\n",
    "            if is_valid_bingo_start(row, col, crosscheck_board_v, \"V\"):\n",
    "                up_spaces = count_empty_spaces(row, col, -1, 0, crosscheck_board_v)\n",
    "                down_spaces = count_empty_spaces(row, col, 1, 0, crosscheck_board_v)\n",
    "                lane_size_v = max(0, up_spaces + down_spaces - 5)  # Need 6 open spaces around a tile\n",
    "                if lane_size_v > 0:\n",
    "                    bingo_lanes.append((row, col, \"V\", lane_size_v))\n",
    "\n",
    "    return bingo_lanes\n"
   ]
  },
  {
   "cell_type": "code",
   "execution_count": 112,
   "id": "a75ced7f-ba16-49f4-b2a4-ca6bb8b07773",
   "metadata": {},
   "outputs": [
    {
     "data": {
      "text/plain": [
       "[(4, 1, 'V', 1)]"
      ]
     },
     "execution_count": 112,
     "metadata": {},
     "output_type": "execute_result"
    }
   ],
   "source": [
    "row = 324751\n",
    "board = df_raw[\"board\"][row]\n",
    "cs_v = df_raw[\"cs_v\"][row]\n",
    "cs_h = df_raw[\"cs_h\"][row]\n",
    "\n",
    "compute_7_letter_bingo_lanes(board, cs_h, cs_v)"
   ]
  },
  {
   "cell_type": "code",
   "execution_count": 113,
   "id": "ad646dae-1b31-437c-be75-fa3985ea58c3",
   "metadata": {},
   "outputs": [
    {
     "name": "stdout",
     "output_type": "stream",
     "text": [
      " ★  F  .  B  .  .  .  D  I  S  S  o  L  V  E \n",
      " .  A  K  A  .  ▲  .  .  .  T  .  .  .  ✦  . \n",
      " .  G  A  T  .  .  U  N  B  O  I  L  E  D  . \n",
      " ◆  .  O  H  M  .  G  Y  A  N  .  ✦  .  .  ◆ \n",
      " .  .  N  .  I  .  .  .  .  Y  ✦  .  .  .  . \n",
      " .  ▲  .  .  g  ▲  .  .  .  I  .  .  N  ▲  . \n",
      " .  .  ◆  .  R  .  ◆  A  W  N  .  .  A  .  . \n",
      " ★  .  .  W  A  R  T  H  O  G  .  ◆  I  .  ★ \n",
      " .  .  ◆  .  I  .  ◆  .  P  .  .  .  L  .  . \n",
      " .  ▲  .  .  N  ▲  .  .  .  J  A  P  E  ▲  . \n",
      " .  .  .  D  E  V  I  A  T  O  R  .  R  .  . \n",
      " ◆  .  .  ✦  .  .  .  U  .  E  C  U  S  .  ◆ \n",
      " .  .  ✦  .  .  .  ◆  R  ◆  .  .  .  ✦  .  . \n",
      " .  ✦  .  .  .  ▲  .  E  .  ▲  .  .  .  ✦  . \n",
      " ★  .  .  ◆  .  .  .  I  .  .  .  ◆  .  .  ★ \n"
     ]
    }
   ],
   "source": [
    "pretty_print_board(board)"
   ]
  },
  {
   "cell_type": "code",
   "execution_count": 114,
   "id": "bb9e686c-a093-4177-873a-48d58b5dd0a2",
   "metadata": {},
   "outputs": [
    {
     "name": "stderr",
     "output_type": "stream",
     "text": [
      "100%|██████████████████████████████████████████████████████████████████████████████████████████████████████████████████████████████████████████| 395715/395715 [00:44<00:00, 8882.81it/s]\n"
     ]
    }
   ],
   "source": [
    "\n",
    "# Compute bingo lanes for each board in the dataset\n",
    "df_raw[\"7_letter_bingo_lanes_list\"] = [\n",
    "    compute_7_letter_bingo_lanes(board, cs_v, cs_h)\n",
    "    for board, cs_v, cs_h in tqdm(zip(df_raw[\"board\"], df_raw[\"cs_v\"], df_raw[\"cs_h\"]), total=len(df_raw))\n",
    "]\n",
    "\n",
    "df_raw[\"7_letter_bingos\"] = df_raw[\"7_letter_bingo_lanes_list\"].apply(\n",
    "    lambda lanes: sum(lane[3] for lane in lanes) if lanes else 0\n",
    ")\n"
   ]
  },
  {
   "cell_type": "code",
   "execution_count": 117,
   "id": "072f0f14-b988-474a-b9a7-e21c1a18a9c0",
   "metadata": {},
   "outputs": [],
   "source": [
    "df_raw.to_pickle(\"scrabble_data_rnd.pkl\")"
   ]
  },
  {
   "cell_type": "code",
   "execution_count": 118,
   "id": "fe3f4df8-a473-4723-971d-d4d7fec0403a",
   "metadata": {},
   "outputs": [
    {
     "data": {
      "text/plain": [
       "np.float64(501.7918510437012)"
      ]
     },
     "execution_count": 118,
     "metadata": {},
     "output_type": "execute_result"
    }
   ],
   "source": [
    "df_raw.memory_usage(deep=True).sum() / (1024**2)  # Convert bytes to MB"
   ]
  },
  {
   "cell_type": "code",
   "execution_count": 120,
   "id": "f4c56197-5db0-4e6d-bc85-d97583a137e2",
   "metadata": {},
   "outputs": [
    {
     "data": {
      "text/plain": [
       "board                        72.457581\n",
       "cs_v                         72.457581\n",
       "cs_h                         72.457581\n",
       "board_rep                    61.036774\n",
       "8_letter_bingo_lanes_list    58.829193\n",
       "7_letter_bingo_lanes_list    24.166458\n",
       "unseen_J                      3.019066\n",
       "unseen_O                      3.019066\n",
       "unseen_N                      3.019066\n",
       "unseen_M                      3.019066\n",
       "dtype: float64"
      ]
     },
     "execution_count": 120,
     "metadata": {},
     "output_type": "execute_result"
    }
   ],
   "source": [
    "df_raw.memory_usage(deep=True).sort_values(ascending=False)[:10] / (1024**2)  # MB per column\n"
   ]
  },
  {
   "cell_type": "code",
   "execution_count": null,
   "id": "0e7478f8-e02e-4266-a7b2-ac7198a4dd1c",
   "metadata": {},
   "outputs": [],
   "source": []
  },
  {
   "cell_type": "code",
   "execution_count": null,
   "id": "832e80eb-0aeb-49b9-8c25-a985f9c8053b",
   "metadata": {},
   "outputs": [],
   "source": []
  }
 ],
 "metadata": {
  "kernelspec": {
   "display_name": "Python (env)",
   "language": "python",
   "name": "env"
  },
  "language_info": {
   "codemirror_mode": {
    "name": "ipython",
    "version": 3
   },
   "file_extension": ".py",
   "mimetype": "text/x-python",
   "name": "python",
   "nbconvert_exporter": "python",
   "pygments_lexer": "ipython3",
   "version": "3.9.6"
  }
 },
 "nbformat": 4,
 "nbformat_minor": 5
}
