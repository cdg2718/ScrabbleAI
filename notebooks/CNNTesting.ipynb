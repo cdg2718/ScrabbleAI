{
 "cells": [
  {
   "cell_type": "code",
   "execution_count": 1,
   "id": "b7470ca9-843f-495e-a3ac-0bacfa5dd1d0",
   "metadata": {},
   "outputs": [],
   "source": [
    "import pandas as pd\n",
    "import time\n",
    "import xgboost as xgb\n",
    "from sklearn.model_selection import train_test_split\n",
    "from sklearn.metrics import mean_squared_error, r2_score\n",
    "import matplotlib.pyplot as plt\n",
    "import numpy as np\n",
    "from sklearn.model_selection import GridSearchCV"
   ]
  },
  {
   "cell_type": "code",
   "execution_count": 2,
   "id": "58afeb96-e94d-4426-81d9-e61be523922d",
   "metadata": {},
   "outputs": [],
   "source": [
    "file_path = \"../data/magpie-sims-400k.csv\"\n",
    "\n",
    "TILE_DIST = {\n",
    "    \"A\": 9, \"B\": 2, \"C\": 2, \"D\": 4, \"E\": 12, \"F\": 2, \"G\": 3, \"H\": 2, \"I\": 9,\n",
    "    \"J\": 1, \"K\": 1, \"L\": 4, \"M\": 2, \"N\": 6, \"O\": 8, \"P\": 2, \"Q\": 1, \"R\": 6,\n",
    "    \"S\": 4, \"T\": 6, \"U\": 4, \"V\": 2, \"W\": 2, \"X\": 1, \"Y\": 2, \"Z\": 1, \"?\": 2\n",
    "}\n",
    "\n",
    "BASE_LEAVE = {k: 0 for k in TILE_DIST.keys()}"
   ]
  },
  {
   "cell_type": "markdown",
   "id": "02184d6f-e09c-4f5e-b440-1487e3c97704",
   "metadata": {},
   "source": [
    "## Data Ingestion + Feature Engineering"
   ]
  },
  {
   "cell_type": "code",
   "execution_count": 6,
   "id": "ea089560-98d4-4e2a-85c1-f80ff955fbf9",
   "metadata": {},
   "outputs": [],
   "source": [
    "def parse_run_tile_representation(data):\n",
    "    \"\"\"\n",
    "    Parse a Scrabble run-tile representation into a 15x15 board.\n",
    "\n",
    "    Args:\n",
    "        data (str): The run-tile representation with rows separated by slashes.\n",
    "\n",
    "    Returns:\n",
    "        list[list[None|str]]: A 15x15 board where each cell is either None, a letter (A-Z), or a blank (a-z).\n",
    "    \"\"\"\n",
    "    board = [[None for _ in range(15)] for _ in range(15)]  # Initialize 15x15 board with None\n",
    "\n",
    "    rows = data.split('/')\n",
    "    for row_index, row_data in enumerate(rows):\n",
    "        col_index = 0\n",
    "        i = 0\n",
    "        \n",
    "        while i < len(row_data):\n",
    "            # Read consecutive empty squares (numbers)\n",
    "            if row_data[i].isdigit():\n",
    "                num_empty = 0\n",
    "                while i < len(row_data) and row_data[i].isdigit():\n",
    "                    num_empty = num_empty * 10 + int(row_data[i])\n",
    "                    i += 1\n",
    "                col_index += num_empty\n",
    "            \n",
    "            # Read tiles\n",
    "            elif row_data[i].isalpha():\n",
    "                board[row_index][col_index] = row_data[i]\n",
    "                col_index += 1\n",
    "                i += 1\n",
    "            \n",
    "            # Ignore unexpected characters\n",
    "            else:\n",
    "                i += 1\n",
    "\n",
    "    return board"
   ]
  },
  {
   "cell_type": "code",
   "execution_count": 27,
   "id": "b72ecaa3-e4bf-40c3-9567-df457c2b4601",
   "metadata": {},
   "outputs": [
    {
     "name": "stdout",
     "output_type": "stream",
     "text": [
      "Total execution time: 19.9459 seconds\n"
     ]
    }
   ],
   "source": [
    "# Open the file and iterate through each line\n",
    "cnt = 0\n",
    "training_data = []\n",
    "\n",
    "start_time = time.time()\n",
    "\n",
    "with open(file_path, 'r') as file:\n",
    "    for line in file:\n",
    "        cnt += 1\n",
    "        # Strip the line of leading/trailing whitespace\n",
    "        line = line.strip()\n",
    "        \n",
    "        # Split the line by spaces (or any other delimiter as needed)\n",
    "        parts = line.split()\n",
    "        \n",
    "        board_state = parts[0]\n",
    "        board = parse_run_tile_representation(board_state)\n",
    "        leave = parts[1].replace(\"/\", \"\")\n",
    "        opp_score, player_score = map(int, parts[2].split(\"/\"))\n",
    "        score_diff = player_score - opp_score\n",
    "        _, winProb, expDiff = map(float, parts[3].split(\",\"))\n",
    "        \n",
    "        unseen_tiles = dict(TILE_DIST)\n",
    "        leave_dict = dict(BASE_LEAVE)\n",
    "        \n",
    "        for el in board_state:\n",
    "            if not el.isalpha():\n",
    "                continue\n",
    "            if el.islower():\n",
    "                unseen_tiles[\"?\"] -= 1\n",
    "            else:\n",
    "                unseen_tiles[el] -= 1\n",
    "        \n",
    "        for el in leave:\n",
    "            unseen_tiles[el] -= 1\n",
    "            leave_dict[el] += 1\n",
    "        \n",
    "        leave_flattened = [leave_dict[letter] for letter in TILE_DIST.keys()]\n",
    "        unseen_tiles_flattened = [unseen_tiles[letter] for letter in TILE_DIST.keys()]\n",
    "        \n",
    "        # Total number of unseen tiles remaining\n",
    "        total_unseen_tiles = sum(unseen_tiles.values())\n",
    "        \n",
    "        # Create a row for this data point with columns for each letter\n",
    "        row = {\n",
    "            \"board\": board,\n",
    "            \"board_rep\": board_state, \n",
    "            \"score_diff\": score_diff,\n",
    "            \"total_unseen_tiles\": total_unseen_tiles,\n",
    "            **{f\"leave_{letter}\": leave_dict[letter] for letter in TILE_DIST.keys()},\n",
    "            **{f\"unseen_{letter}\": unseen_tiles[letter] for letter in TILE_DIST.keys()},\n",
    "            \"winProb\": winProb,\n",
    "            \"expPointDiff\": expDiff\n",
    "        }\n",
    "        \n",
    "        # Append the row to the training data list\n",
    "        training_data.append(row)\n",
    "        \n",
    "# Record the end time\n",
    "end_time = time.time()\n",
    "\n",
    "# Calculate the total time taken\n",
    "elapsed_time = end_time - start_time\n",
    "print(f\"Total execution time: {elapsed_time:.4f} seconds\")"
   ]
  },
  {
   "cell_type": "code",
   "execution_count": 17,
   "id": "ad69c044-723b-414b-ba1d-504b3b69831e",
   "metadata": {},
   "outputs": [],
   "source": [
    "def extract_board_features(board):\n",
    "    new_board = np.zeros([15, 15])\n",
    "    for i in range(15):\n",
    "        for j in range(15):\n",
    "            if(board[i][j]):\n",
    "                new_board[i][j] = 1\n",
    "    return new_board"
   ]
  },
  {
   "cell_type": "code",
   "execution_count": 19,
   "id": "02845ec1-600b-40d2-ad8b-cf180f926478",
   "metadata": {},
   "outputs": [],
   "source": [
    "df = pd.DataFrame(training_data)\n",
    "df[\"board\"] = df[\"board\"].apply(extract_board_features)"
   ]
  },
  {
   "cell_type": "code",
   "execution_count": 30,
   "id": "b45443c7-f699-442d-8b6d-3aafd884bfb5",
   "metadata": {},
   "outputs": [
    {
     "data": {
      "text/plain": [
       "Index(['board', 'score_diff', 'total_unseen_tiles', 'leave_A', 'leave_B',\n",
       "       'leave_C', 'leave_D', 'leave_E', 'leave_F', 'leave_G', 'leave_H',\n",
       "       'leave_I', 'leave_J', 'leave_K', 'leave_L', 'leave_M', 'leave_N',\n",
       "       'leave_O', 'leave_P', 'leave_Q', 'leave_R', 'leave_S', 'leave_T',\n",
       "       'leave_U', 'leave_V', 'leave_W', 'leave_X', 'leave_Y', 'leave_Z',\n",
       "       'leave_?', 'unseen_A', 'unseen_B', 'unseen_C', 'unseen_D', 'unseen_E',\n",
       "       'unseen_F', 'unseen_G', 'unseen_H', 'unseen_I', 'unseen_J', 'unseen_K',\n",
       "       'unseen_L', 'unseen_M', 'unseen_N', 'unseen_O', 'unseen_P', 'unseen_Q',\n",
       "       'unseen_R', 'unseen_S', 'unseen_T', 'unseen_U', 'unseen_V', 'unseen_W',\n",
       "       'unseen_X', 'unseen_Y', 'unseen_Z', 'unseen_?', 'winProb',\n",
       "       'expPointDiff'],\n",
       "      dtype='object')"
      ]
     },
     "execution_count": 30,
     "metadata": {},
     "output_type": "execute_result"
    }
   ],
   "source": [
    "df.columns"
   ]
  },
  {
   "cell_type": "code",
   "execution_count": 25,
   "id": "95e9302d-688a-4723-9cde-b940b3ca3611",
   "metadata": {
    "scrolled": true
   },
   "outputs": [
    {
     "data": {
      "text/plain": [
       "array([[0., 0., 0., 0., 0., 0., 0., 0., 0., 0., 0., 0., 0., 0., 0.],\n",
       "       [0., 0., 0., 0., 0., 0., 0., 0., 0., 0., 0., 0., 0., 0., 0.],\n",
       "       [0., 0., 0., 0., 0., 0., 0., 0., 0., 0., 0., 0., 0., 0., 0.],\n",
       "       [0., 0., 0., 0., 0., 0., 0., 0., 0., 0., 0., 0., 0., 0., 0.],\n",
       "       [0., 0., 0., 0., 0., 0., 0., 0., 0., 0., 0., 0., 0., 0., 0.],\n",
       "       [0., 0., 0., 0., 0., 0., 0., 0., 0., 0., 0., 0., 0., 0., 0.],\n",
       "       [0., 0., 0., 0., 0., 0., 0., 0., 0., 0., 0., 0., 0., 0., 0.],\n",
       "       [0., 0., 0., 0., 0., 0., 0., 0., 0., 0., 0., 0., 0., 0., 0.],\n",
       "       [0., 0., 0., 0., 0., 0., 0., 0., 0., 0., 0., 0., 0., 0., 0.],\n",
       "       [0., 0., 0., 0., 0., 0., 0., 0., 0., 0., 0., 0., 0., 0., 0.],\n",
       "       [0., 0., 0., 0., 0., 0., 0., 0., 0., 0., 0., 0., 0., 0., 0.],\n",
       "       [0., 0., 0., 0., 0., 0., 0., 0., 0., 0., 0., 0., 0., 0., 0.],\n",
       "       [0., 0., 0., 0., 0., 0., 0., 0., 0., 0., 0., 0., 0., 0., 0.],\n",
       "       [0., 0., 0., 0., 0., 0., 0., 0., 0., 0., 0., 0., 0., 0., 0.],\n",
       "       [0., 0., 0., 0., 0., 0., 0., 0., 0., 0., 0., 0., 0., 0., 0.]])"
      ]
     },
     "execution_count": 25,
     "metadata": {},
     "output_type": "execute_result"
    }
   ],
   "source": [
    "df[\"board\"][1]"
   ]
  },
  {
   "cell_type": "markdown",
   "id": "a23c15be-964a-416e-87cf-edd89ea82bfc",
   "metadata": {},
   "source": [
    "## Training"
   ]
  },
  {
   "cell_type": "code",
   "execution_count": 31,
   "id": "b23f29ca-925f-496b-954e-69dc308194fa",
   "metadata": {},
   "outputs": [
    {
     "ename": "ModuleNotFoundError",
     "evalue": "No module named 'tensorflow'",
     "output_type": "error",
     "traceback": [
      "\u001b[0;31m---------------------------------------------------------------------------\u001b[0m",
      "\u001b[0;31mModuleNotFoundError\u001b[0m                       Traceback (most recent call last)",
      "Cell \u001b[0;32mIn[31], line 2\u001b[0m\n\u001b[1;32m      1\u001b[0m \u001b[38;5;28;01mimport\u001b[39;00m\u001b[38;5;250m \u001b[39m\u001b[38;5;21;01mnumpy\u001b[39;00m\u001b[38;5;250m \u001b[39m\u001b[38;5;28;01mas\u001b[39;00m\u001b[38;5;250m \u001b[39m\u001b[38;5;21;01mnp\u001b[39;00m\n\u001b[0;32m----> 2\u001b[0m \u001b[38;5;28;01mimport\u001b[39;00m\u001b[38;5;250m \u001b[39m\u001b[38;5;21;01mtensorflow\u001b[39;00m\u001b[38;5;250m \u001b[39m\u001b[38;5;28;01mas\u001b[39;00m\u001b[38;5;250m \u001b[39m\u001b[38;5;21;01mtf\u001b[39;00m\n\u001b[1;32m      3\u001b[0m \u001b[38;5;28;01mfrom\u001b[39;00m\u001b[38;5;250m \u001b[39m\u001b[38;5;21;01msklearn\u001b[39;00m\u001b[38;5;21;01m.\u001b[39;00m\u001b[38;5;21;01mmodel_selection\u001b[39;00m\u001b[38;5;250m \u001b[39m\u001b[38;5;28;01mimport\u001b[39;00m train_test_split\n\u001b[1;32m      5\u001b[0m \u001b[38;5;66;03m# Assuming df is your DataFrame\u001b[39;00m\n",
      "\u001b[0;31mModuleNotFoundError\u001b[0m: No module named 'tensorflow'"
     ]
    }
   ],
   "source": [
    "import numpy as np\n",
    "import tensorflow as tf\n",
    "from sklearn.model_selection import train_test_split\n",
    "\n",
    "# Assuming df is your DataFrame\n",
    "num_rows = len(df)\n",
    "split_index = int(0.8 * num_rows)\n",
    "\n",
    "train_data = df.iloc[:split_index]\n",
    "test_data = df.iloc[split_index:]\n",
    "\n",
    "print(f\"Training data size: {len(train_data)}, Test data size: {len(test_data)}\")"
   ]
  },
  {
   "cell_type": "code",
   "execution_count": null,
   "id": "b5a57fde-7e6d-4ad0-a69f-00b0e0196761",
   "metadata": {},
   "outputs": [],
   "source": []
  }
 ],
 "metadata": {
  "kernelspec": {
   "display_name": "Python (env)",
   "language": "python",
   "name": "env"
  },
  "language_info": {
   "codemirror_mode": {
    "name": "ipython",
    "version": 3
   },
   "file_extension": ".py",
   "mimetype": "text/x-python",
   "name": "python",
   "nbconvert_exporter": "python",
   "pygments_lexer": "ipython3",
   "version": "3.9.6"
  }
 },
 "nbformat": 4,
 "nbformat_minor": 5
}
